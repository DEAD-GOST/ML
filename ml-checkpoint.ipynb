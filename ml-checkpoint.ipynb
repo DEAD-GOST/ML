{
 "cells": [
  {
   "cell_type": "code",
   "execution_count": 1,
   "id": "84c08e88",
   "metadata": {
    "ExecuteTime": {
     "end_time": "2021-05-03T14:03:58.618871Z",
     "start_time": "2021-05-03T14:03:57.746396Z"
    }
   },
   "outputs": [],
   "source": [
    "# -*- coding: utf-8 -*-\n",
    "\"\"\"\n",
    "Created on Sat Apr 24 12:43:53 2021\n",
    "\n",
    "@author: karan\n",
    "\"\"\"\n",
    "\n",
    "\n",
    "\n",
    "import numpy as np\n",
    "import pandas as pd\n",
    "from matplotlib import pyplot as plt\n",
    "# importing data\n",
    "df = pd.read_csv(\"Training Data.csv\")"
   ]
  },
  {
   "cell_type": "markdown",
   "id": "30cddfb1",
   "metadata": {
    "ExecuteTime": {
     "end_time": "2021-04-24T15:07:37.573869Z",
     "start_time": "2021-04-24T15:07:37.556938Z"
    }
   },
   "source": [
    "## Data preprocessing\n",
    "- Deleting Coloums\n",
    "- Removing Rows Contaning Null values\n",
    "- Then Dividing Dataframe into <b> X and Y </b>\n",
    "- Then Dataset into **Test** and **Train**\n",
    "- Then **Feature Scaling**\n",
    "\n",
    "### Then Finally We have\n",
    "* <b> X_Trian , X_Test , Y_Train , Y_Test"
   ]
  },
  {
   "cell_type": "code",
   "execution_count": 2,
   "id": "479f51a3",
   "metadata": {
    "ExecuteTime": {
     "end_time": "2021-05-03T14:03:59.556903Z",
     "start_time": "2021-05-03T14:03:58.619832Z"
    }
   },
   "outputs": [],
   "source": [
    "# Colum del\n",
    "df.drop([\n",
    "    \"clmbuserid_cr\", \"conversiontime_cr\", \"imprid_cr\", \"audiences_cr\",\n",
    "    \"clickbid_cr\", \"ip_cr\", \"refurl_cr\", \"templateid_cr\", \"templateid_cr\",\n",
    "    \"time_cr\", \"v_cr\", \"allAudiences_cr\", \"impressionTimeInMillis_cr\",\n",
    "    \"stateGrpDimId_cr\", \"deviceId_cr\", \"uvh_cr\", \"uv_cr\", \"platformId_cr\",\n",
    "    \"sdkVersion_cr\", \"usrClusterId_cr\", \"cityGrpDimId_cr\", \"siteClusterIds_cr\",\n",
    "    \"refClusterId_cr\", \"paid_cr\", \"spend_cr\", \"attributionType_cr\",\n",
    "    \"conversionid_cr\", \"optimize_on_cr\", \"bundleId_cr\", \"clickTimeInMillis_cr\"\n",
    "    \n",
    "],\n",
    "        axis=1,\n",
    "        inplace=True)\n",
    "\n",
    "# Not REmoving\n",
    "# \"connTypeDimId_cr\"\n",
    "\n",
    "# Convert Values to INT in Y\n",
    "df['conversion_fraud'] = df['conversion_fraud'].astype(int)\n",
    "# Droping Null value\n",
    "df = df.dropna(how='any', axis=0)\n",
    "\n",
    "# Dividing Dataset INTO X and Y\n",
    "X = df.iloc[:, :-1].values\n",
    "y = df.iloc[:, -1].values\n",
    "\n",
    "# Splitting the dataset into the Training set and Test set\n",
    "from sklearn.model_selection import train_test_split\n",
    "\n",
    "X_train, X_test, y_train, y_test = train_test_split(X, y, test_size=0.25,random_state=0)\n",
    "\n",
    "# Feature Scaling\n",
    "from sklearn.preprocessing import StandardScaler\n",
    "from sklearn.preprocessing import MinMaxScaler\n",
    "\n",
    "sc = StandardScaler()\n",
    "# sc = MinMaxScaler()\n",
    "X_train = sc.fit_transform(X_train)\n",
    "X_test = sc.transform(X_test)"
   ]
  },
  {
   "cell_type": "markdown",
   "id": "edaf2496",
   "metadata": {},
   "source": [
    "# Logestic Regresion"
   ]
  },
  {
   "cell_type": "code",
   "execution_count": 3,
   "id": "583d5206",
   "metadata": {
    "ExecuteTime": {
     "end_time": "2021-05-03T14:03:59.634770Z",
     "start_time": "2021-05-03T14:03:59.557901Z"
    }
   },
   "outputs": [
    {
     "name": "stdout",
     "output_type": "stream",
     "text": [
      "[[209   2]\n",
      " [ 18   7]]\n",
      "Logestic Regresion Accuracy :  0.9152542372881356\n"
     ]
    }
   ],
   "source": [
    "# Fitting Logistic Regression to the Training set\n",
    "from sklearn.linear_model import LogisticRegression\n",
    "\n",
    "LR_classifier = LogisticRegression()\n",
    "LR_classifier.fit(X_train, y_train)\n",
    "\n",
    "############################### Evaluating the model\n",
    "# Predicting the Test set results\n",
    "y_pred = LR_classifier.predict(X_test)\n",
    "\n",
    "# Making the Confusion Matrix\n",
    "from sklearn.metrics import confusion_matrix\n",
    "from sklearn.metrics import plot_confusion_matrix\n",
    "\n",
    "cm1 = confusion_matrix(y_test, y_pred)\n",
    "print(cm1)\n",
    "from sklearn.metrics import accuracy_score\n",
    "\n",
    "ac1 = accuracy_score(y_test, y_pred)\n",
    "print(\"Logestic Regresion Accuracy : \", ac1)"
   ]
  },
  {
   "cell_type": "markdown",
   "id": "403c9f61",
   "metadata": {},
   "source": [
    "## K-NN"
   ]
  },
  {
   "cell_type": "code",
   "execution_count": 4,
   "id": "d4454393",
   "metadata": {
    "ExecuteTime": {
     "end_time": "2021-05-03T14:04:00.291736Z",
     "start_time": "2021-05-03T14:03:59.636764Z"
    }
   },
   "outputs": [
    {
     "data": {
      "text/plain": [
       "Text(0, 0.5, 'correct True and False')"
      ]
     },
     "execution_count": 4,
     "metadata": {},
     "output_type": "execute_result"
    },
    {
     "data": {
      "image/png": "[encoded data removed]",
      "text/plain": [
       "<Figure size 432x288 with 1 Axes>"
      ]
     },
     "metadata": {
      "needs_background": "light"
     },
     "output_type": "display_data"
    }
   ],
   "source": [
    "################ K-NN\n",
    "# Fitting K-NN to the Training set\n",
    "list_true = []\n",
    "list_flase = []\n",
    "list_i = []\n",
    "from sklearn.neighbors import KNeighborsClassifier\n",
    "for i in range(1, 30):\n",
    "    knn_classifier_test = KNeighborsClassifier(n_neighbors=i,\n",
    "                                               metric='minkowski',\n",
    "                                               p=2)\n",
    "    knn_classifier_test.fit(X_train, y_train)\n",
    "\n",
    "    y_pred = knn_classifier_test.predict(X_test)\n",
    "\n",
    "    # Making the Confusion Matrix\n",
    "    from sklearn.metrics import confusion_matrix\n",
    "    cm2 = confusion_matrix(y_test, y_pred)\n",
    "    from sklearn.metrics import accuracy_score\n",
    "    list_i.append(i)\n",
    "    list_true.append(cm2[0][0])\n",
    "    list_flase.append(cm2[1][1]*10)\n",
    "plt.plot(list_i, list_true, \"g\")\n",
    "plt.plot(list_i, list_flase, \"b\")\n",
    "plt.xlabel(\"value of i\")\n",
    "plt.ylabel(\"correct True and False\")"
   ]
  },
  {
   "cell_type": "markdown",
   "id": "af21b761",
   "metadata": {},
   "source": [
    "## 17 is best n_neighbors"
   ]
  },
  {
   "cell_type": "code",
   "execution_count": 5,
   "id": "06c40178",
   "metadata": {
    "ExecuteTime": {
     "end_time": "2021-05-03T14:04:00.323650Z",
     "start_time": "2021-05-03T14:04:00.292734Z"
    }
   },
   "outputs": [
    {
     "name": "stdout",
     "output_type": "stream",
     "text": [
      "K-nn :  0.9110169491525424\n",
      "[[201  10]\n",
      " [ 11  14]]\n"
     ]
    }
   ],
   "source": [
    "knn_classifier = KNeighborsClassifier(n_neighbors=17, metric='minkowski', p=2)\n",
    "knn_classifier.fit(X_train, y_train)\n",
    "\n",
    "y_pred = knn_classifier.predict(X_test)\n",
    "\n",
    "# Making the Confusion Matrix\n",
    "from sklearn.metrics import confusion_matrix\n",
    "\n",
    "cm2 = confusion_matrix(y_test, y_pred)\n",
    "from sklearn.metrics import accuracy_score\n",
    "\n",
    "ac2 = accuracy_score(y_test, y_pred)\n",
    "print(\"K-nn : \", ac2)\n",
    "print(cm2)"
   ]
  },
  {
   "cell_type": "markdown",
   "id": "b5fd3421",
   "metadata": {},
   "source": [
    "## SVM"
   ]
  },
  {
   "cell_type": "code",
   "execution_count": 6,
   "id": "af241da7",
   "metadata": {
    "ExecuteTime": {
     "end_time": "2021-05-03T14:04:00.385490Z",
     "start_time": "2021-05-03T14:04:00.324648Z"
    }
   },
   "outputs": [
    {
     "name": "stdout",
     "output_type": "stream",
     "text": [
      "svm rbf :  0.9194915254237288\n",
      "[[211   0]\n",
      " [ 19   6]]\n"
     ]
    }
   ],
   "source": [
    "############ SVM rbf\n",
    "# Fitting SVM to the Training set\n",
    "from sklearn.svm import SVC\n",
    "\n",
    "svm_rbf_classifier = SVC(kernel='rbf', random_state=0)\n",
    "svm_rbf_classifier.fit(X_train, y_train)\n",
    "\n",
    "y_pred = svm_rbf_classifier.predict(X_test)\n",
    "\n",
    "# Making the Confusion Matrix\n",
    "from sklearn.metrics import confusion_matrix\n",
    "\n",
    "cm3 = confusion_matrix(y_test, y_pred)\n",
    "from sklearn.metrics import accuracy_score\n",
    "\n",
    "ac3 = accuracy_score(y_test, y_pred)\n",
    "print(\"svm rbf : \", ac3)\n",
    "print(cm3)"
   ]
  },
  {
   "cell_type": "markdown",
   "id": "7d5591ab",
   "metadata": {},
   "source": [
    "## Desision Tree"
   ]
  },
  {
   "cell_type": "code",
   "execution_count": 7,
   "id": "19cc2ded",
   "metadata": {
    "ExecuteTime": {
     "end_time": "2021-05-03T14:04:00.432181Z",
     "start_time": "2021-05-03T14:04:00.388481Z"
    }
   },
   "outputs": [
    {
     "name": "stdout",
     "output_type": "stream",
     "text": [
      "Desision Tree:  0.9067796610169492\n",
      "[[199  12]\n",
      " [ 10  15]] \n",
      "\n",
      "\n"
     ]
    }
   ],
   "source": [
    "# Fitting Decision Tree Classification to the Training set\n",
    "from sklearn.tree import DecisionTreeClassifier\n",
    "\n",
    "dt_classifier = DecisionTreeClassifier(criterion='entropy')\n",
    "dt_classifier.fit(X_train, y_train)\n",
    "\n",
    "# Predicting the Test set results\n",
    "y_pred = dt_classifier.predict(X_test)\n",
    "\n",
    "# Making the Confusion Matrix\n",
    "from sklearn.metrics import confusion_matrix\n",
    "\n",
    "cm4 = confusion_matrix(y_test, y_pred)\n",
    "from sklearn.metrics import accuracy_score\n",
    "\n",
    "ac4 = accuracy_score(y_test, y_pred)\n",
    "print(\"Desision Tree: \", ac4)\n",
    "print(cm4, \"\\n\\n\")"
   ]
  },
  {
   "cell_type": "markdown",
   "id": "e6f3aab9",
   "metadata": {},
   "source": [
    "## Random Forest"
   ]
  },
  {
   "cell_type": "code",
   "execution_count": 8,
   "id": "e5f9f1a5",
   "metadata": {
    "ExecuteTime": {
     "end_time": "2021-05-03T14:04:01.213902Z",
     "start_time": "2021-05-03T14:04:00.434176Z"
    }
   },
   "outputs": [
    {
     "data": {
      "text/plain": [
       "Text(0, 0.5, 'correct True and False')"
      ]
     },
     "execution_count": 8,
     "metadata": {},
     "output_type": "execute_result"
    },
    {
     "data": {
      "image/png": "[encoded data removed]",
      "text/plain": [
       "<Figure size 720x504 with 1 Axes>"
      ]
     },
     "metadata": {
      "needs_background": "light"
     },
     "output_type": "display_data"
    }
   ],
   "source": [
    "list_true = []\n",
    "list_flase = []\n",
    "list_i = []\n",
    "for i in range(1, 25):\n",
    "    from sklearn.ensemble import RandomForestClassifier\n",
    "    \n",
    "    rf_classifier = RandomForestClassifier(n_estimators=i, criterion='entropy')\n",
    "    rf_classifier.fit(X_train, y_train)\n",
    "\n",
    "    # Predicting the Test set results\n",
    "    y_pred = rf_classifier.predict(X_test)\n",
    "\n",
    "    # Making the Confusion Matrix\n",
    "    from sklearn.metrics import confusion_matrix\n",
    "\n",
    "    cm5 = confusion_matrix(y_test, y_pred)\n",
    "    from sklearn.metrics import accuracy_score\n",
    "\n",
    "    ac5 = accuracy_score(y_test, y_pred)\n",
    "    \n",
    "    list_i.append(i)\n",
    "    list_true.append(cm5[0][0])\n",
    "    list_flase.append(cm5[1][1]+200)\n",
    "plt.figure(figsize=(10,7))\n",
    "plt.plot(list_i, list_true, \"g\")\n",
    "plt.plot(list_i, list_flase, \"b\")\n",
    "plt.xlabel(\"value of i\")\n",
    "plt.ylabel(\"correct True and False\")"
   ]
  },
  {
   "cell_type": "code",
   "execution_count": 9,
   "id": "e799cdb8",
   "metadata": {
    "ExecuteTime": {
     "end_time": "2021-05-03T14:04:01.275918Z",
     "start_time": "2021-05-03T14:04:01.214851Z"
    }
   },
   "outputs": [
    {
     "name": "stdout",
     "output_type": "stream",
     "text": [
      "Random Forest:  0.9491525423728814\n",
      "[[210   1]\n",
      " [ 11  14]] \n",
      "\n"
     ]
    }
   ],
   "source": [
    "# Fitting Random Forest Classification to the Training set\n",
    "\n",
    "from sklearn.ensemble import RandomForestClassifier\n",
    "\n",
    "rf_classifier = RandomForestClassifier(n_estimators=25, criterion='entropy')\n",
    "rf_classifier.fit(X_train, y_train)\n",
    "\n",
    "# Predicting the Test set results\n",
    "y_pred = rf_classifier.predict(X_test)\n",
    "\n",
    "# Making the Confusion Matrix\n",
    "from sklearn.metrics import confusion_matrix\n",
    "\n",
    "cm5 = confusion_matrix(y_test, y_pred)\n",
    "from sklearn.metrics import accuracy_score\n",
    "\n",
    "ac5 = accuracy_score(y_test, y_pred)\n",
    "print(\"Random Forest: \", ac5)\n",
    "print(cm5, \"\\n\")"
   ]
  },
  {
   "cell_type": "markdown",
   "id": "5452abf9",
   "metadata": {},
   "source": [
    "## Deep learning"
   ]
  },
  {
   "cell_type": "code",
   "execution_count": 10,
   "id": "1aa2315a",
   "metadata": {
    "ExecuteTime": {
     "end_time": "2021-05-03T14:04:03.261545Z",
     "start_time": "2021-05-03T14:04:01.276914Z"
    }
   },
   "outputs": [],
   "source": [
    "from tensorflow.keras.models import Sequential\n",
    "from tensorflow.keras.layers import Dense\n",
    "from tensorflow.keras.callbacks import EarlyStopping\n",
    "from tensorflow.keras.layers import Dropout\n",
    "from tensorflow.keras.optimizers import SGD"
   ]
  },
  {
   "cell_type": "code",
   "execution_count": 11,
   "id": "c040cbe4",
   "metadata": {
    "ExecuteTime": {
     "end_time": "2021-05-03T14:04:03.276658Z",
     "start_time": "2021-05-03T14:04:03.262505Z"
    }
   },
   "outputs": [],
   "source": [
    "early_stop = EarlyStopping(monitor='val_loss',mode='min',verbose=1,patience=25)"
   ]
  },
  {
   "cell_type": "code",
   "execution_count": 12,
   "id": "e0a9a4da",
   "metadata": {
    "ExecuteTime": {
     "end_time": "2021-05-03T14:04:05.009023Z",
     "start_time": "2021-05-03T14:04:03.277641Z"
    }
   },
   "outputs": [],
   "source": [
    "model = Sequential()\n",
    "\n",
    "model.add(Dense(26, activation='relu'))\n",
    "model.add(Dropout(0.2))\n",
    "\n",
    "model.add(Dense(30, activation='relu'))\n",
    "model.add(Dropout(0.2))\n",
    "\n",
    "#50\n",
    "model.add(Dense(50, activation='relu'))\n",
    "model.add(Dropout(0.2))\n",
    "\n",
    "model.add(Dense(100,activation='relu'))\n",
    "model.add(Dropout(0.2))\n",
    "\n",
    "model.add(Dense(200,activation='relu'))\n",
    "model.add(Dropout(0.2))\n",
    "\n",
    "model.add(Dense(50,activation='relu'))\n",
    "model.add(Dropout(0.2))\n",
    "\n",
    "#Binary Classification\n",
    "model.add(Dense(1, activation='sigmoid'))\n",
    "\n",
    "# model.compile(optimizer='rmsprop',loss='mse')\n",
    "model.compile(optimizer= 'adam', loss='binary_crossentropy')"
   ]
  },
  {
   "cell_type": "code",
   "execution_count": 13,
   "id": "a6ad89fb",
   "metadata": {
    "ExecuteTime": {
     "end_time": "2021-05-03T14:04:20.383904Z",
     "start_time": "2021-05-03T14:04:05.010023Z"
    },
    "scrolled": true
   },
   "outputs": [
    {
     "name": "stdout",
     "output_type": "stream",
     "text": [
      "Epoch 1/4000\n",
      "29/29 [==============================] - 0s 10ms/step - loss: 0.4741 - val_loss: 0.3402\n",
      "Epoch 2/4000\n",
      "29/29 [==============================] - 0s 4ms/step - loss: 0.4298 - val_loss: 0.3539\n",
      "Epoch 3/4000\n",
      "29/29 [==============================] - 0s 4ms/step - loss: 0.4214 - val_loss: 0.3574\n",
      "Epoch 4/4000\n",
      "29/29 [==============================] - 0s 4ms/step - loss: 0.4064 - val_loss: 0.3674\n",
      "Epoch 5/4000\n",
      "29/29 [==============================] - 0s 4ms/step - loss: 0.3987 - val_loss: 0.3342\n",
      "Epoch 6/4000\n",
      "29/29 [==============================] - 0s 4ms/step - loss: 0.3944 - val_loss: 0.3520\n",
      "Epoch 7/4000\n",
      "29/29 [==============================] - 0s 4ms/step - loss: 0.3659 - val_loss: 0.3196\n",
      "Epoch 8/4000\n",
      "29/29 [==============================] - 0s 4ms/step - loss: 0.3688 - val_loss: 0.3567\n",
      "Epoch 9/4000\n",
      "29/29 [==============================] - 0s 4ms/step - loss: 0.3702 - val_loss: 0.3260\n",
      "Epoch 10/4000\n",
      "29/29 [==============================] - 0s 4ms/step - loss: 0.3836 - val_loss: 0.3382\n",
      "Epoch 11/4000\n",
      "29/29 [==============================] - 0s 4ms/step - loss: 0.3583 - val_loss: 0.3292\n",
      "Epoch 12/4000\n",
      "29/29 [==============================] - 0s 4ms/step - loss: 0.3528 - val_loss: 0.3277\n",
      "Epoch 13/4000\n",
      "29/29 [==============================] - 0s 4ms/step - loss: 0.3394 - val_loss: 0.3220\n",
      "Epoch 14/4000\n",
      "29/29 [==============================] - 0s 4ms/step - loss: 0.3589 - val_loss: 0.3266\n",
      "Epoch 15/4000\n",
      "29/29 [==============================] - 0s 4ms/step - loss: 0.3412 - val_loss: 0.3341\n",
      "Epoch 16/4000\n",
      "29/29 [==============================] - 0s 4ms/step - loss: 0.3574 - val_loss: 0.3211\n",
      "Epoch 17/4000\n",
      "29/29 [==============================] - 0s 4ms/step - loss: 0.3473 - val_loss: 0.3121\n",
      "Epoch 18/4000\n",
      "29/29 [==============================] - 0s 4ms/step - loss: 0.3386 - val_loss: 0.3211\n",
      "Epoch 19/4000\n",
      "29/29 [==============================] - 0s 4ms/step - loss: 0.3487 - val_loss: 0.3266\n",
      "Epoch 20/4000\n",
      "29/29 [==============================] - 0s 4ms/step - loss: 0.3415 - val_loss: 0.3196\n",
      "Epoch 21/4000\n",
      "29/29 [==============================] - 0s 4ms/step - loss: 0.3282 - val_loss: 0.3205\n",
      "Epoch 22/4000\n",
      "29/29 [==============================] - 0s 4ms/step - loss: 0.3298 - val_loss: 0.3258\n",
      "Epoch 23/4000\n",
      "29/29 [==============================] - 0s 4ms/step - loss: 0.3195 - val_loss: 0.3158\n",
      "Epoch 24/4000\n",
      "29/29 [==============================] - 0s 4ms/step - loss: 0.3342 - val_loss: 0.3081\n",
      "Epoch 25/4000\n",
      "29/29 [==============================] - 0s 4ms/step - loss: 0.3174 - val_loss: 0.3181\n",
      "Epoch 26/4000\n",
      "29/29 [==============================] - 0s 4ms/step - loss: 0.3177 - val_loss: 0.3311\n",
      "Epoch 27/4000\n",
      "29/29 [==============================] - 0s 4ms/step - loss: 0.3141 - val_loss: 0.3275\n",
      "Epoch 28/4000\n",
      "29/29 [==============================] - 0s 4ms/step - loss: 0.3028 - val_loss: 0.3358\n",
      "Epoch 29/4000\n",
      "29/29 [==============================] - 0s 4ms/step - loss: 0.3148 - val_loss: 0.3504\n",
      "Epoch 30/4000\n",
      "29/29 [==============================] - 0s 4ms/step - loss: 0.3097 - val_loss: 0.3336\n",
      "Epoch 31/4000\n",
      "29/29 [==============================] - 0s 4ms/step - loss: 0.3028 - val_loss: 0.3231\n",
      "Epoch 32/4000\n",
      "29/29 [==============================] - 0s 4ms/step - loss: 0.3017 - val_loss: 0.3227\n",
      "Epoch 33/4000\n",
      "29/29 [==============================] - 0s 4ms/step - loss: 0.2929 - val_loss: 0.3207\n",
      "Epoch 34/4000\n",
      "29/29 [==============================] - 0s 4ms/step - loss: 0.2750 - val_loss: 0.3157\n",
      "Epoch 35/4000\n",
      "29/29 [==============================] - 0s 4ms/step - loss: 0.3201 - val_loss: 0.3009\n",
      "Epoch 36/4000\n",
      "29/29 [==============================] - 0s 4ms/step - loss: 0.2962 - val_loss: 0.3038\n",
      "Epoch 37/4000\n",
      "29/29 [==============================] - 0s 4ms/step - loss: 0.2977 - val_loss: 0.3222\n",
      "Epoch 38/4000\n",
      "29/29 [==============================] - 0s 5ms/step - loss: 0.2821 - val_loss: 0.3368\n",
      "Epoch 39/4000\n",
      "29/29 [==============================] - 0s 4ms/step - loss: 0.2954 - val_loss: 0.3223\n",
      "Epoch 40/4000\n",
      "29/29 [==============================] - 0s 4ms/step - loss: 0.2771 - val_loss: 0.3498\n",
      "Epoch 41/4000\n",
      "29/29 [==============================] - 0s 4ms/step - loss: 0.2898 - val_loss: 0.3112\n",
      "Epoch 42/4000\n",
      "29/29 [==============================] - 0s 4ms/step - loss: 0.2681 - val_loss: 0.3248\n",
      "Epoch 43/4000\n",
      "29/29 [==============================] - 0s 4ms/step - loss: 0.2783 - val_loss: 0.3014\n",
      "Epoch 44/4000\n",
      "29/29 [==============================] - 0s 4ms/step - loss: 0.2840 - val_loss: 0.3530\n",
      "Epoch 45/4000\n",
      "29/29 [==============================] - 0s 4ms/step - loss: 0.2591 - val_loss: 0.3073\n",
      "Epoch 46/4000\n",
      "29/29 [==============================] - 0s 4ms/step - loss: 0.2770 - val_loss: 0.3136\n",
      "Epoch 47/4000\n",
      "29/29 [==============================] - 0s 4ms/step - loss: 0.2764 - val_loss: 0.3079\n",
      "Epoch 48/4000\n",
      "29/29 [==============================] - 0s 4ms/step - loss: 0.2706 - val_loss: 0.3451\n",
      "Epoch 49/4000\n",
      "29/29 [==============================] - 0s 4ms/step - loss: 0.2581 - val_loss: 0.3195\n",
      "Epoch 50/4000\n",
      "29/29 [==============================] - 0s 4ms/step - loss: 0.2637 - val_loss: 0.3069\n",
      "Epoch 51/4000\n",
      "29/29 [==============================] - 0s 4ms/step - loss: 0.2763 - val_loss: 0.3096\n",
      "Epoch 52/4000\n",
      "29/29 [==============================] - 0s 4ms/step - loss: 0.2726 - val_loss: 0.2900\n",
      "Epoch 53/4000\n",
      "29/29 [==============================] - 0s 4ms/step - loss: 0.2563 - val_loss: 0.3032\n",
      "Epoch 54/4000\n",
      "29/29 [==============================] - 0s 4ms/step - loss: 0.2726 - val_loss: 0.3274\n",
      "Epoch 55/4000\n",
      "29/29 [==============================] - 0s 4ms/step - loss: 0.2623 - val_loss: 0.3049\n",
      "Epoch 56/4000\n",
      "29/29 [==============================] - 0s 4ms/step - loss: 0.2797 - val_loss: 0.3121\n",
      "Epoch 57/4000\n",
      "29/29 [==============================] - 0s 5ms/step - loss: 0.2714 - val_loss: 0.3011\n",
      "Epoch 58/4000\n",
      "29/29 [==============================] - 0s 5ms/step - loss: 0.2506 - val_loss: 0.3145\n",
      "Epoch 59/4000\n",
      "29/29 [==============================] - 0s 6ms/step - loss: 0.2556 - val_loss: 0.3097\n",
      "Epoch 60/4000\n",
      "29/29 [==============================] - 0s 4ms/step - loss: 0.2579 - val_loss: 0.3059\n",
      "Epoch 61/4000\n",
      "29/29 [==============================] - 0s 4ms/step - loss: 0.2516 - val_loss: 0.3205\n",
      "Epoch 62/4000\n",
      "29/29 [==============================] - 0s 4ms/step - loss: 0.2694 - val_loss: 0.3104\n",
      "Epoch 63/4000\n",
      "29/29 [==============================] - 0s 4ms/step - loss: 0.2556 - val_loss: 0.3036\n",
      "Epoch 64/4000\n",
      "29/29 [==============================] - 0s 4ms/step - loss: 0.2521 - val_loss: 0.3031\n",
      "Epoch 65/4000\n",
      "29/29 [==============================] - 0s 6ms/step - loss: 0.2533 - val_loss: 0.2910\n",
      "Epoch 66/4000\n",
      "29/29 [==============================] - 0s 5ms/step - loss: 0.2299 - val_loss: 0.3026\n",
      "Epoch 67/4000\n",
      "29/29 [==============================] - 0s 4ms/step - loss: 0.2516 - val_loss: 0.3169\n",
      "Epoch 68/4000\n",
      "29/29 [==============================] - 0s 4ms/step - loss: 0.2496 - val_loss: 0.3154\n",
      "Epoch 69/4000\n",
      "29/29 [==============================] - 0s 4ms/step - loss: 0.2475 - val_loss: 0.2845\n",
      "Epoch 70/4000\n",
      "29/29 [==============================] - 0s 5ms/step - loss: 0.2428 - val_loss: 0.3161\n",
      "Epoch 71/4000\n",
      "29/29 [==============================] - 0s 5ms/step - loss: 0.2492 - val_loss: 0.2971\n",
      "Epoch 72/4000\n",
      "29/29 [==============================] - 0s 5ms/step - loss: 0.2270 - val_loss: 0.2942\n",
      "Epoch 73/4000\n",
      "29/29 [==============================] - 0s 4ms/step - loss: 0.2570 - val_loss: 0.3060\n",
      "Epoch 74/4000\n",
      "29/29 [==============================] - 0s 5ms/step - loss: 0.2455 - val_loss: 0.3099\n",
      "Epoch 75/4000\n",
      "29/29 [==============================] - 0s 4ms/step - loss: 0.2490 - val_loss: 0.3133\n",
      "Epoch 76/4000\n",
      "29/29 [==============================] - 0s 4ms/step - loss: 0.2371 - val_loss: 0.3193\n",
      "Epoch 77/4000\n",
      "29/29 [==============================] - 0s 4ms/step - loss: 0.2404 - val_loss: 0.3319\n",
      "Epoch 78/4000\n",
      "29/29 [==============================] - 0s 4ms/step - loss: 0.2670 - val_loss: 0.3042\n",
      "Epoch 79/4000\n",
      "29/29 [==============================] - 0s 4ms/step - loss: 0.2510 - val_loss: 0.2867\n",
      "Epoch 80/4000\n",
      "29/29 [==============================] - 0s 4ms/step - loss: 0.2481 - val_loss: 0.3048\n",
      "Epoch 81/4000\n",
      "29/29 [==============================] - 0s 4ms/step - loss: 0.2495 - val_loss: 0.3040\n",
      "Epoch 82/4000\n"
     ]
    },
    {
     "name": "stdout",
     "output_type": "stream",
     "text": [
      "29/29 [==============================] - 0s 4ms/step - loss: 0.2363 - val_loss: 0.2894\n",
      "Epoch 83/4000\n",
      "29/29 [==============================] - 0s 5ms/step - loss: 0.2468 - val_loss: 0.2757\n",
      "Epoch 84/4000\n",
      "29/29 [==============================] - 0s 5ms/step - loss: 0.2318 - val_loss: 0.2685\n",
      "Epoch 85/4000\n",
      "29/29 [==============================] - 0s 4ms/step - loss: 0.2503 - val_loss: 0.3065\n",
      "Epoch 86/4000\n",
      "29/29 [==============================] - 0s 5ms/step - loss: 0.2516 - val_loss: 0.2995\n",
      "Epoch 87/4000\n",
      "29/29 [==============================] - 0s 5ms/step - loss: 0.2442 - val_loss: 0.3110\n",
      "Epoch 88/4000\n",
      "29/29 [==============================] - 0s 4ms/step - loss: 0.2274 - val_loss: 0.2879\n",
      "Epoch 89/4000\n",
      "29/29 [==============================] - 0s 5ms/step - loss: 0.2449 - val_loss: 0.3163\n",
      "Epoch 90/4000\n",
      "29/29 [==============================] - 0s 4ms/step - loss: 0.2464 - val_loss: 0.2964\n",
      "Epoch 91/4000\n",
      "29/29 [==============================] - 0s 5ms/step - loss: 0.2452 - val_loss: 0.3042\n",
      "Epoch 92/4000\n",
      "29/29 [==============================] - 0s 5ms/step - loss: 0.2241 - val_loss: 0.2909\n",
      "Epoch 93/4000\n",
      "29/29 [==============================] - 0s 5ms/step - loss: 0.2337 - val_loss: 0.3033\n",
      "Epoch 94/4000\n",
      "29/29 [==============================] - 0s 5ms/step - loss: 0.2169 - val_loss: 0.2892\n",
      "Epoch 95/4000\n",
      "29/29 [==============================] - 0s 4ms/step - loss: 0.2388 - val_loss: 0.2996\n",
      "Epoch 96/4000\n",
      "29/29 [==============================] - 0s 4ms/step - loss: 0.2320 - val_loss: 0.2934\n",
      "Epoch 97/4000\n",
      "29/29 [==============================] - 0s 5ms/step - loss: 0.2344 - val_loss: 0.3176\n",
      "Epoch 98/4000\n",
      "29/29 [==============================] - 0s 4ms/step - loss: 0.2234 - val_loss: 0.2970\n",
      "Epoch 99/4000\n",
      "29/29 [==============================] - 0s 4ms/step - loss: 0.2319 - val_loss: 0.2943\n",
      "Epoch 100/4000\n",
      "29/29 [==============================] - 0s 4ms/step - loss: 0.2148 - val_loss: 0.3060\n",
      "Epoch 101/4000\n",
      "29/29 [==============================] - 0s 4ms/step - loss: 0.2205 - val_loss: 0.2822\n",
      "Epoch 102/4000\n",
      "29/29 [==============================] - 0s 4ms/step - loss: 0.2459 - val_loss: 0.2895\n",
      "Epoch 103/4000\n",
      "29/29 [==============================] - 0s 4ms/step - loss: 0.2222 - val_loss: 0.2913\n",
      "Epoch 104/4000\n",
      "29/29 [==============================] - 0s 4ms/step - loss: 0.2221 - val_loss: 0.2845\n",
      "Epoch 105/4000\n",
      "29/29 [==============================] - 0s 4ms/step - loss: 0.2192 - val_loss: 0.2979\n",
      "Epoch 106/4000\n",
      "29/29 [==============================] - 0s 5ms/step - loss: 0.2320 - val_loss: 0.2926\n",
      "Epoch 107/4000\n",
      "29/29 [==============================] - 0s 4ms/step - loss: 0.2180 - val_loss: 0.2892\n",
      "Epoch 108/4000\n",
      "29/29 [==============================] - 0s 4ms/step - loss: 0.2388 - val_loss: 0.2944\n",
      "Epoch 109/4000\n",
      "29/29 [==============================] - 0s 4ms/step - loss: 0.2411 - val_loss: 0.2923\n",
      "Epoch 00109: early stopping\n"
     ]
    },
    {
     "data": {
      "text/plain": [
       "<tensorflow.python.keras.callbacks.History at 0x242b16860a0>"
      ]
     },
     "execution_count": 13,
     "metadata": {},
     "output_type": "execute_result"
    }
   ],
   "source": [
    "model.fit(x=X_train,\n",
    "          y=y_train,\n",
    "          validation_data=(X_test, y_test),\n",
    "          epochs=4000,\n",
    "          callbacks=[early_stop],\n",
    "          batch_size=25)"
   ]
  },
  {
   "cell_type": "code",
   "execution_count": 14,
   "id": "ef3e6f0b",
   "metadata": {
    "ExecuteTime": {
     "end_time": "2021-05-03T14:04:20.557049Z",
     "start_time": "2021-05-03T14:04:20.385896Z"
    }
   },
   "outputs": [
    {
     "data": {
      "text/plain": [
       "<AxesSubplot:>"
      ]
     },
     "execution_count": 14,
     "metadata": {},
     "output_type": "execute_result"
    },
    {
     "data": {
      "image/png": "[encoded data removed]",
      "text/plain": [
       "<Figure size 432x288 with 1 Axes>"
      ]
     },
     "metadata": {
      "needs_background": "light"
     },
     "output_type": "display_data"
    }
   ],
   "source": [
    "losses = pd.DataFrame(model.history.history)\n",
    "losses.plot()"
   ]
  },
  {
   "cell_type": "code",
   "execution_count": 15,
   "id": "26945fad",
   "metadata": {
    "ExecuteTime": {
     "end_time": "2021-05-03T14:04:20.745399Z",
     "start_time": "2021-05-03T14:04:20.558047Z"
    }
   },
   "outputs": [
    {
     "name": "stdout",
     "output_type": "stream",
     "text": [
      "WARNING:tensorflow:From <ipython-input-15-22d9b303c4cd>:1: Sequential.predict_classes (from tensorflow.python.keras.engine.sequential) is deprecated and will be removed after 2021-01-01.\n",
      "Instructions for updating:\n",
      "Please use instead:* `np.argmax(model.predict(x), axis=-1)`,   if your model does multi-class classification   (e.g. if it uses a `softmax` last-layer activation).* `(model.predict(x) > 0.5).astype(\"int32\")`,   if your model does binary classification   (e.g. if it uses a `sigmoid` last-layer activation).\n"
     ]
    }
   ],
   "source": [
    "prediction = model.predict_classes(X_test)"
   ]
  },
  {
   "cell_type": "code",
   "execution_count": 16,
   "id": "40dec988",
   "metadata": {
    "ExecuteTime": {
     "end_time": "2021-05-03T14:04:20.823149Z",
     "start_time": "2021-05-03T14:04:20.747350Z"
    }
   },
   "outputs": [
    {
     "data": {
      "text/plain": [
       "array([[1.49526432e-01],\n",
       "       [8.93274415e-03],\n",
       "       [4.01787907e-02],\n",
       "       [9.29949939e-01],\n",
       "       [2.39325594e-02],\n",
       "       [4.67375247e-03],\n",
       "       [4.12780568e-02],\n",
       "       [4.91704941e-02],\n",
       "       [1.16974600e-01],\n",
       "       [1.34848922e-01],\n",
       "       [1.39942050e-01],\n",
       "       [3.89035232e-02],\n",
       "       [4.32139117e-04],\n",
       "       [8.24165791e-02],\n",
       "       [7.28726164e-02],\n",
       "       [5.21961331e-01],\n",
       "       [5.52586168e-02],\n",
       "       [1.22893870e-01],\n",
       "       [4.09991965e-02],\n",
       "       [1.11273281e-01],\n",
       "       [1.02769732e-01],\n",
       "       [6.32380322e-02],\n",
       "       [1.39964432e-01],\n",
       "       [8.26786831e-02],\n",
       "       [5.97942434e-02],\n",
       "       [7.83503056e-02],\n",
       "       [7.98841491e-02],\n",
       "       [3.35047115e-03],\n",
       "       [1.04865046e-06],\n",
       "       [1.81673139e-01],\n",
       "       [1.35643646e-01],\n",
       "       [4.14656736e-02],\n",
       "       [3.88564989e-02],\n",
       "       [1.77005947e-01],\n",
       "       [2.58275479e-01],\n",
       "       [4.31751102e-01],\n",
       "       [2.28770729e-02],\n",
       "       [1.89442909e-03],\n",
       "       [8.27400684e-02],\n",
       "       [8.24692717e-04],\n",
       "       [4.99166362e-02],\n",
       "       [1.31468102e-01],\n",
       "       [3.46634388e-02],\n",
       "       [8.93195122e-02],\n",
       "       [9.20221567e-01],\n",
       "       [6.28971756e-02],\n",
       "       [1.04788557e-01],\n",
       "       [1.07200980e-01],\n",
       "       [1.10820130e-01],\n",
       "       [1.41186357e-01],\n",
       "       [7.63416067e-02],\n",
       "       [2.03030761e-02],\n",
       "       [9.06885266e-02],\n",
       "       [1.36122525e-01],\n",
       "       [2.36326084e-01],\n",
       "       [5.35017401e-02],\n",
       "       [8.60878527e-02],\n",
       "       [8.83050635e-02],\n",
       "       [1.03156308e-04],\n",
       "       [9.16556954e-01],\n",
       "       [9.09704387e-01],\n",
       "       [2.40069684e-02],\n",
       "       [1.74481813e-02],\n",
       "       [8.50445256e-02],\n",
       "       [5.28743211e-03],\n",
       "       [8.50686058e-02],\n",
       "       [8.20974354e-03],\n",
       "       [9.01061147e-02],\n",
       "       [8.68368596e-02],\n",
       "       [5.98295592e-03],\n",
       "       [6.85149245e-03],\n",
       "       [9.01256353e-02],\n",
       "       [9.82489511e-02],\n",
       "       [1.13083281e-01],\n",
       "       [1.03026055e-01],\n",
       "       [1.05408303e-01],\n",
       "       [5.07874275e-03],\n",
       "       [1.52343720e-01],\n",
       "       [1.77127158e-03],\n",
       "       [2.25522872e-02],\n",
       "       [1.07419349e-01],\n",
       "       [8.60302627e-01],\n",
       "       [7.79684633e-02],\n",
       "       [3.79808359e-02],\n",
       "       [1.02770559e-01],\n",
       "       [1.35664165e-01],\n",
       "       [9.35059726e-01],\n",
       "       [6.86107874e-02],\n",
       "       [8.93730819e-02],\n",
       "       [1.85007811e-01],\n",
       "       [1.14096671e-01],\n",
       "       [3.10648838e-03],\n",
       "       [1.72957003e-01],\n",
       "       [8.35713297e-02],\n",
       "       [8.89033601e-02],\n",
       "       [1.34401143e-01],\n",
       "       [1.27226606e-01],\n",
       "       [9.07686114e-01],\n",
       "       [2.78102700e-02],\n",
       "       [1.31994963e-01],\n",
       "       [2.07979162e-03],\n",
       "       [1.12929448e-01],\n",
       "       [1.01360127e-01],\n",
       "       [8.28668028e-02],\n",
       "       [1.05932184e-01],\n",
       "       [9.64242741e-02],\n",
       "       [4.23488170e-02],\n",
       "       [2.99787428e-03],\n",
       "       [1.11907050e-01],\n",
       "       [1.35107666e-01],\n",
       "       [8.63682508e-01],\n",
       "       [9.20282423e-01],\n",
       "       [8.64548832e-02],\n",
       "       [1.68005019e-01],\n",
       "       [1.73215370e-03],\n",
       "       [4.63520959e-02],\n",
       "       [1.31814498e-02],\n",
       "       [5.28320447e-02],\n",
       "       [9.16392982e-01],\n",
       "       [1.75056279e-01],\n",
       "       [3.83402407e-03],\n",
       "       [9.99539569e-02],\n",
       "       [9.61222202e-02],\n",
       "       [8.31144601e-02],\n",
       "       [1.40614331e-01],\n",
       "       [1.07129142e-01],\n",
       "       [1.06244229e-01],\n",
       "       [1.07183360e-01],\n",
       "       [8.24984387e-02],\n",
       "       [2.60149222e-02],\n",
       "       [1.39597207e-01],\n",
       "       [1.00484021e-01],\n",
       "       [1.18641324e-01],\n",
       "       [1.83533728e-02],\n",
       "       [1.16974324e-01],\n",
       "       [3.81344445e-02],\n",
       "       [1.05113186e-01],\n",
       "       [1.57682803e-02],\n",
       "       [9.26913396e-02],\n",
       "       [8.11034888e-02],\n",
       "       [1.07196875e-01],\n",
       "       [1.66182965e-01],\n",
       "       [1.11016929e-01],\n",
       "       [1.95094775e-02],\n",
       "       [1.79436784e-02],\n",
       "       [3.39814164e-02],\n",
       "       [1.68260589e-01],\n",
       "       [1.51988611e-01],\n",
       "       [9.28170830e-02],\n",
       "       [8.27375799e-02],\n",
       "       [1.12174809e-01],\n",
       "       [8.25431272e-02],\n",
       "       [9.54386145e-02],\n",
       "       [1.09280303e-01],\n",
       "       [2.76433257e-03],\n",
       "       [9.14574683e-01],\n",
       "       [1.13444313e-01],\n",
       "       [6.78974614e-02],\n",
       "       [2.89686974e-02],\n",
       "       [1.75978765e-01],\n",
       "       [1.08296655e-01],\n",
       "       [8.29594433e-02],\n",
       "       [5.85323723e-04],\n",
       "       [3.61566655e-02],\n",
       "       [1.94121543e-02],\n",
       "       [3.93179394e-02],\n",
       "       [1.18425839e-01],\n",
       "       [9.20350075e-01],\n",
       "       [4.12789136e-02],\n",
       "       [1.06758140e-01],\n",
       "       [1.96093637e-02],\n",
       "       [5.46499109e-03],\n",
       "       [1.50395885e-01],\n",
       "       [1.77841067e-01],\n",
       "       [2.22856309e-02],\n",
       "       [7.82846436e-02],\n",
       "       [3.51220705e-02],\n",
       "       [1.53500751e-01],\n",
       "       [4.79809456e-02],\n",
       "       [7.20962882e-02],\n",
       "       [5.85429966e-02],\n",
       "       [3.46042573e-01],\n",
       "       [1.64918713e-02],\n",
       "       [4.64999042e-02],\n",
       "       [1.05761457e-02],\n",
       "       [4.69026947e-03],\n",
       "       [8.62548649e-02],\n",
       "       [9.38913703e-01],\n",
       "       [8.94228399e-01],\n",
       "       [4.11801822e-02],\n",
       "       [7.26155862e-02],\n",
       "       [4.76261154e-02],\n",
       "       [1.07651889e-01],\n",
       "       [4.23631221e-01],\n",
       "       [5.12374826e-02],\n",
       "       [9.32970122e-02],\n",
       "       [9.21949089e-01],\n",
       "       [9.61846560e-02],\n",
       "       [5.09677976e-02],\n",
       "       [3.66175771e-02],\n",
       "       [1.06506445e-01],\n",
       "       [8.76481365e-03],\n",
       "       [1.07197016e-01],\n",
       "       [9.28507566e-01],\n",
       "       [9.28600669e-01],\n",
       "       [9.96473245e-05],\n",
       "       [2.46375985e-02],\n",
       "       [3.89215425e-02],\n",
       "       [9.17017281e-01],\n",
       "       [1.43109800e-08],\n",
       "       [8.27376693e-02],\n",
       "       [3.99140990e-04],\n",
       "       [4.47335355e-02],\n",
       "       [8.17579180e-02],\n",
       "       [1.38770204e-07],\n",
       "       [6.69010263e-03],\n",
       "       [8.27004761e-02],\n",
       "       [9.56344530e-02],\n",
       "       [4.75475676e-02],\n",
       "       [8.53046104e-02],\n",
       "       [9.01445448e-02],\n",
       "       [2.32007712e-01],\n",
       "       [8.27035680e-02],\n",
       "       [1.98457390e-03],\n",
       "       [1.78881779e-01],\n",
       "       [2.00347306e-04],\n",
       "       [9.14629176e-03],\n",
       "       [9.20353413e-01],\n",
       "       [9.37377140e-02],\n",
       "       [4.66021337e-02],\n",
       "       [8.46213847e-02],\n",
       "       [8.70716583e-04],\n",
       "       [1.35704309e-01],\n",
       "       [9.47060883e-02],\n",
       "       [9.61436480e-02],\n",
       "       [5.77432215e-02]], dtype=float32)"
      ]
     },
     "execution_count": 16,
     "metadata": {},
     "output_type": "execute_result"
    }
   ],
   "source": [
    "model.predict(X_test)"
   ]
  },
  {
   "cell_type": "code",
   "execution_count": 17,
   "id": "70cb4ea0",
   "metadata": {
    "ExecuteTime": {
     "end_time": "2021-05-03T14:04:20.838623Z",
     "start_time": "2021-05-03T14:04:20.824145Z"
    }
   },
   "outputs": [],
   "source": [
    "from sklearn.metrics import classification_report,confusion_matrix"
   ]
  },
  {
   "cell_type": "code",
   "execution_count": 18,
   "id": "cc2cfd11",
   "metadata": {
    "ExecuteTime": {
     "end_time": "2021-05-03T14:04:20.854580Z",
     "start_time": "2021-05-03T14:04:20.839621Z"
    }
   },
   "outputs": [
    {
     "name": "stdout",
     "output_type": "stream",
     "text": [
      "              precision    recall  f1-score   support\n",
      "\n",
      "           0       0.94      0.97      0.96       211\n",
      "           1       0.65      0.52      0.58        25\n",
      "\n",
      "    accuracy                           0.92       236\n",
      "   macro avg       0.80      0.74      0.77       236\n",
      "weighted avg       0.91      0.92      0.92       236\n",
      "\n"
     ]
    }
   ],
   "source": [
    "print(classification_report(y_test,prediction))"
   ]
  },
  {
   "cell_type": "code",
   "execution_count": 19,
   "id": "16237291",
   "metadata": {
    "ExecuteTime": {
     "end_time": "2021-05-03T14:04:20.870538Z",
     "start_time": "2021-05-03T14:04:20.856577Z"
    }
   },
   "outputs": [],
   "source": [
    "cm6 = confusion_matrix(y_test,prediction)"
   ]
  },
  {
   "cell_type": "code",
   "execution_count": 20,
   "id": "74aeb32a",
   "metadata": {
    "ExecuteTime": {
     "end_time": "2021-05-03T14:04:20.885497Z",
     "start_time": "2021-05-03T14:04:20.871536Z"
    }
   },
   "outputs": [
    {
     "name": "stdout",
     "output_type": "stream",
     "text": [
      "Deep Learning accuracy :  0.9491525423728814\n",
      "[[204   7]\n",
      " [ 12  13]]\n"
     ]
    }
   ],
   "source": [
    "ac6 = accuracy_score(y_test, y_pred)\n",
    "print(\"Deep Learning accuracy : \",ac6)\n",
    "print(cm6)"
   ]
  },
  {
   "cell_type": "markdown",
   "id": "63e5b361",
   "metadata": {
    "variables": {
     "cm1[0][0]": "209",
     "cm1[1][1]": "7",
     "cm2[0][0]": "201",
     "cm2[1][1]": "14",
     "cm3[0][0]": "211",
     "cm3[1][1]": "6",
     "cm4[0][0]": "199",
     "cm4[1][1]": "15",
     "cm5[0][0]": "210",
     "cm5[1][1]": "14",
     "cm6[0][0]": "204",
     "cm6[1][1]": "13",
     "int(ac1*100)": "91",
     "int(ac2*100)": "91",
     "int(ac3*100)": "91",
     "int(ac4*100)": "90",
     "int(ac5*100)": "94",
     "int(ac6*100)": "94"
    }
   },
   "source": [
    "## MODEL\n",
    "\n",
    "\n",
    "| Model | Name| Acuuracy(%)|True|False|\n",
    "| :---        |    :----:   |   :---: | :---:|    :----:   \n",
    "|Logestic Regression| LR_classifier| {{int(ac1*100)}}|{{cm1[0][0]}}|{{cm1[1][1]}}|\n",
    "|K-NN |knn_classifier | {{int(ac2*100)}}| {{cm2[0][0]}} |{{cm2[1][1]}} |\n",
    "| SVM |svm_rbf_classifier | {{int(ac3*100)}} | {{cm3[0][0]}} | {{cm3[1][1]}} |\n",
    "|Desision Tree  | dt_classifier| {{int(ac4*100)}} |{{cm4[0][0]}} | {{cm4[1][1]}} |\n",
    "| random forest | rf_classifier | {{int(ac5*100)}}|{{cm5[0][0]}}|{{cm5[1][1]}}|\n",
    "| Deep Learning | model | {{int(ac6*100)}}|{{cm6[0][0]}}|{{cm6[1][1]}}|\n"
   ]
  },
  {
   "cell_type": "code",
   "execution_count": 21,
   "id": "b6503076",
   "metadata": {
    "ExecuteTime": {
     "end_time": "2021-05-03T14:04:21.198209Z",
     "start_time": "2021-05-03T14:04:21.168255Z"
    }
   },
   "outputs": [
    {
     "data": {
      "text/html": [
       "<div>\n",
       "<style scoped>\n",
       "    .dataframe tbody tr th:only-of-type {\n",
       "        vertical-align: middle;\n",
       "    }\n",
       "\n",
       "    .dataframe tbody tr th {\n",
       "        vertical-align: top;\n",
       "    }\n",
       "\n",
       "    .dataframe thead th {\n",
       "        text-align: right;\n",
       "    }\n",
       "</style>\n",
       "<table border=\"1\" class=\"dataframe\">\n",
       "  <thead>\n",
       "    <tr style=\"text-align: right;\">\n",
       "      <th></th>\n",
       "      <th>model</th>\n",
       "      <th>acc</th>\n",
       "      <th>True</th>\n",
       "      <th>False</th>\n",
       "    </tr>\n",
       "  </thead>\n",
       "  <tbody>\n",
       "    <tr>\n",
       "      <th>0</th>\n",
       "      <td>Logestic Regression</td>\n",
       "      <td>91.525424</td>\n",
       "      <td>209</td>\n",
       "      <td>7</td>\n",
       "    </tr>\n",
       "    <tr>\n",
       "      <th>1</th>\n",
       "      <td>K-NN</td>\n",
       "      <td>91.101695</td>\n",
       "      <td>201</td>\n",
       "      <td>14</td>\n",
       "    </tr>\n",
       "    <tr>\n",
       "      <th>2</th>\n",
       "      <td>SVM</td>\n",
       "      <td>91.949153</td>\n",
       "      <td>211</td>\n",
       "      <td>6</td>\n",
       "    </tr>\n",
       "    <tr>\n",
       "      <th>3</th>\n",
       "      <td>Desision Tree</td>\n",
       "      <td>90.677966</td>\n",
       "      <td>199</td>\n",
       "      <td>15</td>\n",
       "    </tr>\n",
       "    <tr>\n",
       "      <th>4</th>\n",
       "      <td>random forest</td>\n",
       "      <td>94.915254</td>\n",
       "      <td>210</td>\n",
       "      <td>14</td>\n",
       "    </tr>\n",
       "    <tr>\n",
       "      <th>5</th>\n",
       "      <td>Deep Learning</td>\n",
       "      <td>94.915254</td>\n",
       "      <td>204</td>\n",
       "      <td>13</td>\n",
       "    </tr>\n",
       "  </tbody>\n",
       "</table>\n",
       "</div>"
      ],
      "text/plain": [
       "                 model        acc  True  False\n",
       "0  Logestic Regression  91.525424   209      7\n",
       "1                 K-NN  91.101695   201     14\n",
       "2                  SVM  91.949153   211      6\n",
       "3        Desision Tree  90.677966   199     15\n",
       "4        random forest  94.915254   210     14\n",
       "5        Deep Learning  94.915254   204     13"
      ]
     },
     "execution_count": 21,
     "metadata": {},
     "output_type": "execute_result"
    }
   ],
   "source": [
    "# df = pd.DataFrame({'lab':['A', 'B', 'C'], 'val':[10, 30, 20]})\n",
    "df_models = pd.DataFrame({\n",
    "    'model': [\n",
    "        \"Logestic Regression\", \"K-NN\", \"SVM\", \"Desision Tree\", \"random forest\",\n",
    "        \"Deep Learning\"\n",
    "    ],\n",
    "    \"acc\":[ac1*100,ac2*100,ac3*100,ac4*100,ac5*100,ac6*100,],\n",
    "    \"True\":[cm1[0][0],cm2[0][0],cm3[0][0],cm4[0][0],cm5[0][0],cm6[0][0]],\n",
    "    \"False\":[cm1[1][1],cm2[1][1],cm3[1][1],cm4[1][1],cm5[1][1],cm6[1][1]]\n",
    "})\n",
    "df_models"
   ]
  },
  {
   "cell_type": "code",
   "execution_count": 22,
   "id": "53d0004e",
   "metadata": {
    "ExecuteTime": {
     "end_time": "2021-05-03T14:04:21.402630Z",
     "start_time": "2021-05-03T14:04:21.200171Z"
    }
   },
   "outputs": [
    {
     "data": {
      "text/plain": [
       "<AxesSubplot:xlabel='model'>"
      ]
     },
     "execution_count": 22,
     "metadata": {},
     "output_type": "execute_result"
    },
    {
     "data": {
      "text/plain": [
       "<Figure size 1440x1440 with 0 Axes>"
      ]
     },
     "metadata": {},
     "output_type": "display_data"
    },
    {
     "data": {
      "image/png": "[encoded data removed]",
      "text/plain": [
       "<Figure size 432x288 with 1 Axes>"
      ]
     },
     "metadata": {
      "needs_background": "light"
     },
     "output_type": "display_data"
    }
   ],
   "source": [
    "plt.figure(figsize=(20,20))\n",
    "df_models.plot.bar(x='model',rot=30,stacked=True)"
   ]
  },
  {
   "cell_type": "markdown",
   "id": "54aa72df",
   "metadata": {},
   "source": [
    "## Improving Model performence"
   ]
  },
  {
   "cell_type": "code",
   "execution_count": 23,
   "id": "5082597d",
   "metadata": {
    "ExecuteTime": {
     "end_time": "2021-05-03T14:04:21.496377Z",
     "start_time": "2021-05-03T14:04:21.405621Z"
    }
   },
   "outputs": [],
   "source": [
    "import seaborn as sns"
   ]
  },
  {
   "cell_type": "code",
   "execution_count": 24,
   "id": "d6c5fcf9",
   "metadata": {
    "ExecuteTime": {
     "end_time": "2021-05-03T14:04:21.512334Z",
     "start_time": "2021-05-03T14:04:21.498377Z"
    }
   },
   "outputs": [
    {
     "data": {
      "text/plain": [
       "osVerDimId_cr                   -0.164867\n",
       "browserId_cr                    -0.152837\n",
       "siteId_cr                       -0.125855\n",
       "pubclientid_cr                  -0.121393\n",
       "itemid_cr                       -0.084807\n",
       "position_cr                     -0.058909\n",
       "uuidSource_cr                   -0.045874\n",
       "conversionDurationInMillis_cr   -0.045379\n",
       "connTypeDimId_cr                -0.034342\n",
       "itemcolumbiaid_cr               -0.029064\n",
       "ispDimId_cr                     -0.026533\n",
       "cityId_cr                       -0.016385\n",
       "geodimid_cr                     -0.013087\n",
       "countryDimId_cr                 -0.009699\n",
       "modelDimId_cr                    0.000109\n",
       "adslotdimid_cr                   0.021424\n",
       "algo_cr                          0.021767\n",
       "goalid_cr                        0.037235\n",
       "pricingtype_cr                   0.041786\n",
       "osId_cr                          0.059065\n",
       "geoGrpDimId_cr                   0.059635\n",
       "stateId_cr                       0.073453\n",
       "clientid_cr                      0.074817\n",
       "adLogType_cr                     0.108480\n",
       "lookUpFrom_cr                    0.108480\n",
       "goalTypeId_cr                         NaN\n",
       "Name: conversion_fraud, dtype: float64"
      ]
     },
     "execution_count": 24,
     "metadata": {},
     "output_type": "execute_result"
    }
   ],
   "source": [
    "df.corr()[\"conversion_fraud\"][:-1].sort_values()"
   ]
  },
  {
   "cell_type": "markdown",
   "id": "3ef24ebd",
   "metadata": {},
   "source": [
    "# After Cleaning"
   ]
  },
  {
   "cell_type": "code",
   "execution_count": 25,
   "id": "778b21bc",
   "metadata": {
    "ExecuteTime": {
     "end_time": "2021-05-03T14:04:21.527295Z",
     "start_time": "2021-05-03T14:04:21.514335Z"
    },
    "scrolled": false
   },
   "outputs": [
    {
     "data": {
      "text/plain": [
       "osVerDimId_cr                   -0.164867\n",
       "browserId_cr                    -0.152837\n",
       "siteId_cr                       -0.125855\n",
       "pubclientid_cr                  -0.121393\n",
       "itemid_cr                       -0.084807\n",
       "position_cr                     -0.058909\n",
       "uuidSource_cr                   -0.045874\n",
       "conversionDurationInMillis_cr   -0.045379\n",
       "connTypeDimId_cr                -0.034342\n",
       "itemcolumbiaid_cr               -0.029064\n",
       "ispDimId_cr                     -0.026533\n",
       "cityId_cr                       -0.016385\n",
       "geodimid_cr                     -0.013087\n",
       "countryDimId_cr                 -0.009699\n",
       "modelDimId_cr                    0.000109\n",
       "adslotdimid_cr                   0.021424\n",
       "algo_cr                          0.021767\n",
       "goalid_cr                        0.037235\n",
       "pricingtype_cr                   0.041786\n",
       "osId_cr                          0.059065\n",
       "geoGrpDimId_cr                   0.059635\n",
       "stateId_cr                       0.073453\n",
       "clientid_cr                      0.074817\n",
       "adLogType_cr                     0.108480\n",
       "lookUpFrom_cr                    0.108480\n",
       "goalTypeId_cr                         NaN\n",
       "Name: conversion_fraud, dtype: float64"
      ]
     },
     "execution_count": 25,
     "metadata": {},
     "output_type": "execute_result"
    }
   ],
   "source": [
    "# plt.figure(figsize=(10,6))\n",
    "# df.corr()[\"conversion_fraud\"][:-1].sort_values().plot(kind='bar')\n",
    "df.corr()[\"conversion_fraud\"][:-1].sort_values()"
   ]
  },
  {
   "cell_type": "markdown",
   "id": "d592782f",
   "metadata": {},
   "source": [
    "# Before cleaning"
   ]
  },
  {
   "cell_type": "code",
   "execution_count": 26,
   "id": "98171c3a",
   "metadata": {
    "ExecuteTime": {
     "end_time": "2021-05-03T14:04:21.822506Z",
     "start_time": "2021-05-03T14:04:21.528293Z"
    }
   },
   "outputs": [
    {
     "data": {
      "text/plain": [
       "<AxesSubplot:>"
      ]
     },
     "execution_count": 26,
     "metadata": {},
     "output_type": "execute_result"
    },
    {
     "data": {
      "image/png": "[encoded data removed]",
      "text/plain": [
       "<Figure size 1080x720 with 1 Axes>"
      ]
     },
     "metadata": {
      "needs_background": "light"
     },
     "output_type": "display_data"
    }
   ],
   "source": [
    "plt.figure(figsize=(15,10))\n",
    "df.corr()[\"conversion_fraud\"][:-1].sort_values().plot(kind='bar')"
   ]
  },
  {
   "cell_type": "code",
   "execution_count": 27,
   "id": "edd2ab83",
   "metadata": {
    "ExecuteTime": {
     "end_time": "2021-05-03T14:04:21.852940Z",
     "start_time": "2021-05-03T14:04:21.825498Z"
    }
   },
   "outputs": [
    {
     "data": {
      "text/plain": [
       "osVerDimId_cr                   -0.164867\n",
       "browserId_cr                    -0.152837\n",
       "siteId_cr                       -0.125855\n",
       "pubclientid_cr                  -0.121393\n",
       "itemid_cr                       -0.084807\n",
       "position_cr                     -0.058909\n",
       "uuidSource_cr                   -0.045874\n",
       "conversionDurationInMillis_cr   -0.045379\n",
       "connTypeDimId_cr                -0.034342\n",
       "itemcolumbiaid_cr               -0.029064\n",
       "ispDimId_cr                     -0.026533\n",
       "cityId_cr                       -0.016385\n",
       "geodimid_cr                     -0.013087\n",
       "countryDimId_cr                 -0.009699\n",
       "modelDimId_cr                    0.000109\n",
       "adslotdimid_cr                   0.021424\n",
       "algo_cr                          0.021767\n",
       "goalid_cr                        0.037235\n",
       "pricingtype_cr                   0.041786\n",
       "osId_cr                          0.059065\n",
       "geoGrpDimId_cr                   0.059635\n",
       "stateId_cr                       0.073453\n",
       "clientid_cr                      0.074817\n",
       "adLogType_cr                     0.108480\n",
       "lookUpFrom_cr                    0.108480\n",
       "goalTypeId_cr                         NaN\n",
       "Name: conversion_fraud, dtype: float64"
      ]
     },
     "execution_count": 27,
     "metadata": {},
     "output_type": "execute_result"
    }
   ],
   "source": [
    "df.corr()[\"conversion_fraud\"][:-1].sort_values()"
   ]
  },
  {
   "cell_type": "markdown",
   "id": "1da00196",
   "metadata": {},
   "source": [
    "## Test\n",
    "- As we observe, Random Forest perform best\n",
    "- so, we will prepare the test Data.\n",
    "- "
   ]
  },
  {
   "cell_type": "code",
   "execution_count": 28,
   "id": "2f300e19",
   "metadata": {
    "ExecuteTime": {
     "end_time": "2021-05-03T14:04:21.900842Z",
     "start_time": "2021-05-03T14:04:21.855931Z"
    }
   },
   "outputs": [],
   "source": [
    "### TEST DATA\n",
    "df1 = pd.read_csv(\"Test Data.csv\")\n",
    "\n",
    "# Cleaning data\n",
    "# Colum del\n",
    "df1.drop([\"clmbuserid_cr\",\"conversiontime_cr\",\"imprid_cr\",\"audiences_cr\",\"clickbid_cr\",\"ip_cr\",\"refurl_cr\",\"templateid_cr\",\"templateid_cr\",\"time_cr\",\"v_cr\",\"allAudiences_cr\",\"impressionTimeInMillis_cr\",\"stateGrpDimId_cr\",\"deviceId_cr\",\"uvh_cr\",\"uv_cr\",\"platformId_cr\",\"sdkVersion_cr\",\"usrClusterId_cr\",\"cityGrpDimId_cr\",\"siteClusterIds_cr\",\"refClusterId_cr\",\"paid_cr\",\"spend_cr\",\"attributionType_cr\",\"conversionid_cr\",\"optimize_on_cr\",\"bundleId_cr\",\"clickTimeInMillis_cr\"],axis=1, inplace=True)\n",
    "\n",
    "## ,\"connTypeDimId_cr\"\n",
    "\n",
    "# Convert Values to INT in Y\n",
    "\n",
    "# Droping Null value\n",
    "df1 = df1.dropna(how='any',axis=0) \n",
    "\n",
    "\n",
    "# Dividing Dataset INTO X and Y\n",
    "X1 = df1.iloc[:,1:].values\n",
    "index = df1.iloc[:,0].values\n",
    "X1 = sc.transform(X1)\n",
    "\n"
   ]
  },
  {
   "cell_type": "code",
   "execution_count": 29,
   "id": "d99e8909",
   "metadata": {
    "ExecuteTime": {
     "end_time": "2021-05-03T14:04:21.916768Z",
     "start_time": "2021-05-03T14:04:21.901807Z"
    },
    "scrolled": false
   },
   "outputs": [
    {
     "data": {
      "text/html": [
       "<div>\n",
       "<style scoped>\n",
       "    .dataframe tbody tr th:only-of-type {\n",
       "        vertical-align: middle;\n",
       "    }\n",
       "\n",
       "    .dataframe tbody tr th {\n",
       "        vertical-align: top;\n",
       "    }\n",
       "\n",
       "    .dataframe thead th {\n",
       "        text-align: right;\n",
       "    }\n",
       "</style>\n",
       "<table border=\"1\" class=\"dataframe\">\n",
       "  <thead>\n",
       "    <tr style=\"text-align: right;\">\n",
       "      <th></th>\n",
       "      <th>0</th>\n",
       "    </tr>\n",
       "  </thead>\n",
       "  <tbody>\n",
       "    <tr>\n",
       "      <th>0</th>\n",
       "      <td>0</td>\n",
       "    </tr>\n",
       "    <tr>\n",
       "      <th>1</th>\n",
       "      <td>0</td>\n",
       "    </tr>\n",
       "    <tr>\n",
       "      <th>2</th>\n",
       "      <td>0</td>\n",
       "    </tr>\n",
       "    <tr>\n",
       "      <th>3</th>\n",
       "      <td>0</td>\n",
       "    </tr>\n",
       "    <tr>\n",
       "      <th>4</th>\n",
       "      <td>0</td>\n",
       "    </tr>\n",
       "    <tr>\n",
       "      <th>...</th>\n",
       "      <td>...</td>\n",
       "    </tr>\n",
       "    <tr>\n",
       "      <th>450</th>\n",
       "      <td>0</td>\n",
       "    </tr>\n",
       "    <tr>\n",
       "      <th>451</th>\n",
       "      <td>0</td>\n",
       "    </tr>\n",
       "    <tr>\n",
       "      <th>452</th>\n",
       "      <td>0</td>\n",
       "    </tr>\n",
       "    <tr>\n",
       "      <th>453</th>\n",
       "      <td>0</td>\n",
       "    </tr>\n",
       "    <tr>\n",
       "      <th>454</th>\n",
       "      <td>0</td>\n",
       "    </tr>\n",
       "  </tbody>\n",
       "</table>\n",
       "<p>455 rows × 1 columns</p>\n",
       "</div>"
      ],
      "text/plain": [
       "     0\n",
       "0    0\n",
       "1    0\n",
       "2    0\n",
       "3    0\n",
       "4    0\n",
       "..  ..\n",
       "450  0\n",
       "451  0\n",
       "452  0\n",
       "453  0\n",
       "454  0\n",
       "\n",
       "[455 rows x 1 columns]"
      ]
     },
     "execution_count": 29,
     "metadata": {},
     "output_type": "execute_result"
    }
   ],
   "source": [
    "y1= LR_classifier.predict(X1)\n",
    "y1_df = pd.DataFrame(y1)\n",
    "y1_df"
   ]
  },
  {
   "cell_type": "code",
   "execution_count": 30,
   "id": "049680b2",
   "metadata": {
    "ExecuteTime": {
     "end_time": "2021-05-03T14:04:22.742654Z",
     "start_time": "2021-05-03T14:04:21.918762Z"
    },
    "scrolled": false
   },
   "outputs": [
    {
     "ename": "NameError",
     "evalue": "name 'y2_df' is not defined",
     "output_type": "error",
     "traceback": [
      "\u001b[1;31m---------------------------------------------------------------------------\u001b[0m",
      "\u001b[1;31mNameError\u001b[0m                                 Traceback (most recent call last)",
      "\u001b[1;32m<ipython-input-30-a4cfcd862da4>\u001b[0m in \u001b[0;36m<module>\u001b[1;34m\u001b[0m\n\u001b[1;32m----> 1\u001b[1;33m \u001b[0my2_df\u001b[0m\u001b[1;33m\u001b[0m\u001b[1;33m\u001b[0m\u001b[0m\n\u001b[0m",
      "\u001b[1;31mNameError\u001b[0m: name 'y2_df' is not defined"
     ]
    }
   ],
   "source": [
    "y2_df"
   ]
  },
  {
   "cell_type": "code",
   "execution_count": null,
   "id": "a27c3696",
   "metadata": {
    "ExecuteTime": {
     "end_time": "2021-05-03T14:04:22.753633Z",
     "start_time": "2021-05-03T14:03:57.839Z"
    }
   },
   "outputs": [],
   "source": [
    "index = df1[\"record_id\"]"
   ]
  },
  {
   "cell_type": "code",
   "execution_count": null,
   "id": "97b0e264",
   "metadata": {
    "ExecuteTime": {
     "end_time": "2021-05-03T14:04:22.754630Z",
     "start_time": "2021-05-03T14:03:57.841Z"
    }
   },
   "outputs": [],
   "source": [
    "horizontal_stack = pd.concat([index, y2_df], axis=1)"
   ]
  },
  {
   "cell_type": "code",
   "execution_count": null,
   "id": "f441f359",
   "metadata": {
    "ExecuteTime": {
     "end_time": "2021-05-03T14:04:22.755627Z",
     "start_time": "2021-05-03T14:03:57.843Z"
    }
   },
   "outputs": [],
   "source": [
    "horizontal_stack"
   ]
  },
  {
   "cell_type": "code",
   "execution_count": null,
   "id": "957a68ae",
   "metadata": {
    "ExecuteTime": {
     "end_time": "2021-05-03T14:04:22.757622Z",
     "start_time": "2021-05-03T14:03:57.845Z"
    }
   },
   "outputs": [],
   "source": [
    "horizontal_stack['conversion_fraud'] = np.where(horizontal_stack[0]==0, 'FALSE', 'TRUE')"
   ]
  },
  {
   "cell_type": "code",
   "execution_count": null,
   "id": "5977c4d2",
   "metadata": {
    "ExecuteTime": {
     "end_time": "2021-05-03T14:04:22.758619Z",
     "start_time": "2021-05-03T14:03:57.849Z"
    }
   },
   "outputs": [],
   "source": [
    "horizontal_stack"
   ]
  },
  {
   "cell_type": "code",
   "execution_count": null,
   "id": "a9627098",
   "metadata": {
    "ExecuteTime": {
     "end_time": "2021-05-03T14:04:22.760615Z",
     "start_time": "2021-05-03T14:03:57.851Z"
    }
   },
   "outputs": [],
   "source": [
    "horizontal_stack.drop([0])\n",
    "horizontal_stack"
   ]
  },
  {
   "cell_type": "code",
   "execution_count": null,
   "id": "ca445ab2",
   "metadata": {
    "ExecuteTime": {
     "end_time": "2021-05-03T14:04:22.761612Z",
     "start_time": "2021-05-03T14:03:57.853Z"
    }
   },
   "outputs": [],
   "source": [
    "horizontal_stack.to_csv(\"submissio.csv\")"
   ]
  },
  {
   "cell_type": "code",
   "execution_count": null,
   "id": "2d6bf437",
   "metadata": {
    "ExecuteTime": {
     "end_time": "2021-05-03T14:04:22.764603Z",
     "start_time": "2021-05-03T14:03:57.856Z"
    }
   },
   "outputs": [],
   "source": [
    "import pickle"
   ]
  },
  {
   "cell_type": "code",
   "execution_count": null,
   "id": "a3aa9777",
   "metadata": {
    "ExecuteTime": {
     "end_time": "2021-05-03T14:04:22.765601Z",
     "start_time": "2021-05-03T14:03:57.858Z"
    }
   },
   "outputs": [],
   "source": [
    "filename = 'finalized_model.sav'\n",
    "pickle.dump(model, open(filename, 'wb'))"
   ]
  },
  {
   "cell_type": "code",
   "execution_count": null,
   "id": "cbee160d",
   "metadata": {},
   "outputs": [],
   "source": []
  }
 ],
 "metadata": {
  "kernelspec": {
   "display_name": "tf-gpu",
   "language": "python",
   "name": "tf-gpu"
  },
  "language_info": {
   "codemirror_mode": {
    "name": "ipython",
    "version": 3
   },
   "file_extension": ".py",
   "mimetype": "text/x-python",
   "name": "python",
   "nbconvert_exporter": "python",
   "pygments_lexer": "ipython3",
   "version": "3.8.8"
  },
  "varInspector": {
   "cols": {
    "lenName": 16,
    "lenType": 16,
    "lenVar": 40
   },
   "kernels_config": {
    "python": {
     "delete_cmd_postfix": "",
     "delete_cmd_prefix": "del ",
     "library": "var_list.py",
     "varRefreshCmd": "print(var_dic_list())"
    },
    "r": {
     "delete_cmd_postfix": ") ",
     "delete_cmd_prefix": "rm(",
     "library": "var_list.r",
     "varRefreshCmd": "cat(var_dic_list()) "
    }
   },
   "position": {
    "height": "462.4px",
    "left": "1087px",
    "right": "20px",
    "top": "107px",
    "width": "350px"
   },
   "types_to_exclude": [
    "module",
    "function",
    "builtin_function_or_method",
    "instance",
    "_Feature"
   ],
   "window_display": false
  }
 },
 "nbformat": 4,
 "nbformat_minor": 5
}
